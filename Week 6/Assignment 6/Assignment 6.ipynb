{
 "cells": [
  {
   "cell_type": "markdown",
   "metadata": {},
   "source": [
    "# Assignment 6"
   ]
  },
  {
   "cell_type": "markdown",
   "metadata": {},
   "source": [
    "## Bag-of-words model and Naïve Bayes - how it works\n",
    "### Bag-of-words\n",
    "This model counts all the words in the text and see how many of them are in all the values. It is simple, but quite effective.\n",
    "\n",
    "### Naïve Bayes\n",
    "This calculates a probability that a text belongs to a certain category.\n",
    "\n",
    "With these two models together you can create text classification and calculate the probability of the category. "
   ]
  },
  {
   "cell_type": "code",
   "execution_count": 88,
   "metadata": {},
   "outputs": [],
   "source": [
    "import pandas as pd"
   ]
  },
  {
   "cell_type": "markdown",
   "metadata": {},
   "source": [
    "## Data pre-processing steps"
   ]
  },
  {
   "cell_type": "code",
   "execution_count": 89,
   "metadata": {},
   "outputs": [
    {
     "data": {
      "text/html": [
       "<div>\n",
       "<style scoped>\n",
       "    .dataframe tbody tr th:only-of-type {\n",
       "        vertical-align: middle;\n",
       "    }\n",
       "\n",
       "    .dataframe tbody tr th {\n",
       "        vertical-align: top;\n",
       "    }\n",
       "\n",
       "    .dataframe thead th {\n",
       "        text-align: right;\n",
       "    }\n",
       "</style>\n",
       "<table border=\"1\" class=\"dataframe\">\n",
       "  <thead>\n",
       "    <tr style=\"text-align: right;\">\n",
       "      <th></th>\n",
       "      <th>Unnamed: 0</th>\n",
       "      <th>Clothing ID</th>\n",
       "      <th>Age</th>\n",
       "      <th>Title</th>\n",
       "      <th>Review Text</th>\n",
       "      <th>Rating</th>\n",
       "      <th>Recommended IND</th>\n",
       "      <th>Positive Feedback Count</th>\n",
       "      <th>Division Name</th>\n",
       "      <th>Department Name</th>\n",
       "      <th>Class Name</th>\n",
       "    </tr>\n",
       "  </thead>\n",
       "  <tbody>\n",
       "    <tr>\n",
       "      <th>0</th>\n",
       "      <td>0</td>\n",
       "      <td>767</td>\n",
       "      <td>33</td>\n",
       "      <td>NaN</td>\n",
       "      <td>Absolutely wonderful - silky and sexy and comf...</td>\n",
       "      <td>4</td>\n",
       "      <td>1</td>\n",
       "      <td>0</td>\n",
       "      <td>Initmates</td>\n",
       "      <td>Intimate</td>\n",
       "      <td>Intimates</td>\n",
       "    </tr>\n",
       "    <tr>\n",
       "      <th>1</th>\n",
       "      <td>1</td>\n",
       "      <td>1080</td>\n",
       "      <td>34</td>\n",
       "      <td>NaN</td>\n",
       "      <td>Love this dress!  it's sooo pretty.  i happene...</td>\n",
       "      <td>5</td>\n",
       "      <td>1</td>\n",
       "      <td>4</td>\n",
       "      <td>General</td>\n",
       "      <td>Dresses</td>\n",
       "      <td>Dresses</td>\n",
       "    </tr>\n",
       "    <tr>\n",
       "      <th>2</th>\n",
       "      <td>2</td>\n",
       "      <td>1077</td>\n",
       "      <td>60</td>\n",
       "      <td>Some major design flaws</td>\n",
       "      <td>I had such high hopes for this dress and reall...</td>\n",
       "      <td>3</td>\n",
       "      <td>0</td>\n",
       "      <td>0</td>\n",
       "      <td>General</td>\n",
       "      <td>Dresses</td>\n",
       "      <td>Dresses</td>\n",
       "    </tr>\n",
       "    <tr>\n",
       "      <th>3</th>\n",
       "      <td>3</td>\n",
       "      <td>1049</td>\n",
       "      <td>50</td>\n",
       "      <td>My favorite buy!</td>\n",
       "      <td>I love, love, love this jumpsuit. it's fun, fl...</td>\n",
       "      <td>5</td>\n",
       "      <td>1</td>\n",
       "      <td>0</td>\n",
       "      <td>General Petite</td>\n",
       "      <td>Bottoms</td>\n",
       "      <td>Pants</td>\n",
       "    </tr>\n",
       "    <tr>\n",
       "      <th>4</th>\n",
       "      <td>4</td>\n",
       "      <td>847</td>\n",
       "      <td>47</td>\n",
       "      <td>Flattering shirt</td>\n",
       "      <td>This shirt is very flattering to all due to th...</td>\n",
       "      <td>5</td>\n",
       "      <td>1</td>\n",
       "      <td>6</td>\n",
       "      <td>General</td>\n",
       "      <td>Tops</td>\n",
       "      <td>Blouses</td>\n",
       "    </tr>\n",
       "  </tbody>\n",
       "</table>\n",
       "</div>"
      ],
      "text/plain": [
       "   Unnamed: 0  Clothing ID  Age                    Title  \\\n",
       "0           0          767   33                      NaN   \n",
       "1           1         1080   34                      NaN   \n",
       "2           2         1077   60  Some major design flaws   \n",
       "3           3         1049   50         My favorite buy!   \n",
       "4           4          847   47         Flattering shirt   \n",
       "\n",
       "                                         Review Text  Rating  Recommended IND  \\\n",
       "0  Absolutely wonderful - silky and sexy and comf...       4                1   \n",
       "1  Love this dress!  it's sooo pretty.  i happene...       5                1   \n",
       "2  I had such high hopes for this dress and reall...       3                0   \n",
       "3  I love, love, love this jumpsuit. it's fun, fl...       5                1   \n",
       "4  This shirt is very flattering to all due to th...       5                1   \n",
       "\n",
       "   Positive Feedback Count   Division Name Department Name Class Name  \n",
       "0                        0       Initmates        Intimate  Intimates  \n",
       "1                        4         General         Dresses    Dresses  \n",
       "2                        0         General         Dresses    Dresses  \n",
       "3                        0  General Petite         Bottoms      Pants  \n",
       "4                        6         General            Tops    Blouses  "
      ]
     },
     "execution_count": 89,
     "metadata": {},
     "output_type": "execute_result"
    }
   ],
   "source": [
    "df = pd.read_csv('Womens Clothing E-Commerce Reviews.csv')\n",
    "df.head()"
   ]
  },
  {
   "cell_type": "markdown",
   "metadata": {},
   "source": [
    "Show only the rows that has a class name Dresses. Then only show the two columns Review Text and Rating that we need for the prediction."
   ]
  },
  {
   "cell_type": "code",
   "execution_count": 90,
   "metadata": {},
   "outputs": [
    {
     "data": {
      "text/html": [
       "<div>\n",
       "<style scoped>\n",
       "    .dataframe tbody tr th:only-of-type {\n",
       "        vertical-align: middle;\n",
       "    }\n",
       "\n",
       "    .dataframe tbody tr th {\n",
       "        vertical-align: top;\n",
       "    }\n",
       "\n",
       "    .dataframe thead th {\n",
       "        text-align: right;\n",
       "    }\n",
       "</style>\n",
       "<table border=\"1\" class=\"dataframe\">\n",
       "  <thead>\n",
       "    <tr style=\"text-align: right;\">\n",
       "      <th></th>\n",
       "      <th>Review Text</th>\n",
       "      <th>Rating</th>\n",
       "    </tr>\n",
       "  </thead>\n",
       "  <tbody>\n",
       "    <tr>\n",
       "      <th>1</th>\n",
       "      <td>Love this dress!  it's sooo pretty.  i happene...</td>\n",
       "      <td>5</td>\n",
       "    </tr>\n",
       "    <tr>\n",
       "      <th>2</th>\n",
       "      <td>I had such high hopes for this dress and reall...</td>\n",
       "      <td>3</td>\n",
       "    </tr>\n",
       "    <tr>\n",
       "      <th>5</th>\n",
       "      <td>I love tracy reese dresses, but this one is no...</td>\n",
       "      <td>2</td>\n",
       "    </tr>\n",
       "    <tr>\n",
       "      <th>8</th>\n",
       "      <td>I love this dress. i usually get an xs but it ...</td>\n",
       "      <td>5</td>\n",
       "    </tr>\n",
       "    <tr>\n",
       "      <th>9</th>\n",
       "      <td>I'm 5\"5' and 125 lbs. i ordered the s petite t...</td>\n",
       "      <td>5</td>\n",
       "    </tr>\n",
       "  </tbody>\n",
       "</table>\n",
       "</div>"
      ],
      "text/plain": [
       "                                         Review Text  Rating\n",
       "1  Love this dress!  it's sooo pretty.  i happene...       5\n",
       "2  I had such high hopes for this dress and reall...       3\n",
       "5  I love tracy reese dresses, but this one is no...       2\n",
       "8  I love this dress. i usually get an xs but it ...       5\n",
       "9  I'm 5\"5' and 125 lbs. i ordered the s petite t...       5"
      ]
     },
     "execution_count": 90,
     "metadata": {},
     "output_type": "execute_result"
    }
   ],
   "source": [
    "df_subset = df.loc[(df['Class Name'] == 'Dresses')] #only show the dresses\n",
    "df_subset = df_subset[['Review Text', 'Rating']] #only show the columns review text and rating\n",
    "df_subset.head()"
   ]
  },
  {
   "cell_type": "markdown",
   "metadata": {},
   "source": [
    "In the column rating I change the values. If rating is higher than 3 it will change it to the string value Positive. If rating is lower than 4 it will change the value to the string value Negative."
   ]
  },
  {
   "cell_type": "code",
   "execution_count": 91,
   "metadata": {},
   "outputs": [
    {
     "data": {
      "text/html": [
       "<div>\n",
       "<style scoped>\n",
       "    .dataframe tbody tr th:only-of-type {\n",
       "        vertical-align: middle;\n",
       "    }\n",
       "\n",
       "    .dataframe tbody tr th {\n",
       "        vertical-align: top;\n",
       "    }\n",
       "\n",
       "    .dataframe thead th {\n",
       "        text-align: right;\n",
       "    }\n",
       "</style>\n",
       "<table border=\"1\" class=\"dataframe\">\n",
       "  <thead>\n",
       "    <tr style=\"text-align: right;\">\n",
       "      <th></th>\n",
       "      <th>Review Text</th>\n",
       "      <th>Rating</th>\n",
       "    </tr>\n",
       "  </thead>\n",
       "  <tbody>\n",
       "    <tr>\n",
       "      <th>1</th>\n",
       "      <td>Love this dress!  it's sooo pretty.  i happene...</td>\n",
       "      <td>Positive</td>\n",
       "    </tr>\n",
       "    <tr>\n",
       "      <th>2</th>\n",
       "      <td>I had such high hopes for this dress and reall...</td>\n",
       "      <td>Negative</td>\n",
       "    </tr>\n",
       "    <tr>\n",
       "      <th>5</th>\n",
       "      <td>I love tracy reese dresses, but this one is no...</td>\n",
       "      <td>Negative</td>\n",
       "    </tr>\n",
       "    <tr>\n",
       "      <th>8</th>\n",
       "      <td>I love this dress. i usually get an xs but it ...</td>\n",
       "      <td>Positive</td>\n",
       "    </tr>\n",
       "    <tr>\n",
       "      <th>9</th>\n",
       "      <td>I'm 5\"5' and 125 lbs. i ordered the s petite t...</td>\n",
       "      <td>Positive</td>\n",
       "    </tr>\n",
       "  </tbody>\n",
       "</table>\n",
       "</div>"
      ],
      "text/plain": [
       "                                         Review Text    Rating\n",
       "1  Love this dress!  it's sooo pretty.  i happene...  Positive\n",
       "2  I had such high hopes for this dress and reall...  Negative\n",
       "5  I love tracy reese dresses, but this one is no...  Negative\n",
       "8  I love this dress. i usually get an xs but it ...  Positive\n",
       "9  I'm 5\"5' and 125 lbs. i ordered the s petite t...  Positive"
      ]
     },
     "execution_count": 91,
     "metadata": {},
     "output_type": "execute_result"
    }
   ],
   "source": [
    "df_subset.loc[:, 'Rating'].replace([1, 2, 3], ['Negative', 'Negative', 'Negative'], inplace=True)\n",
    "df_subset.loc[:, 'Rating'].replace([4, 5], ['Positive', 'Positive'], inplace=True)\n",
    "df_subset.head()"
   ]
  },
  {
   "cell_type": "markdown",
   "metadata": {},
   "source": [
    "## Text pre-processing steps"
   ]
  },
  {
   "cell_type": "markdown",
   "metadata": {},
   "source": [
    "Then i create a dictionary from a series of text and convert it to Unicode."
   ]
  },
  {
   "cell_type": "code",
   "execution_count": 92,
   "metadata": {},
   "outputs": [
    {
     "name": "stdout",
     "output_type": "stream",
     "text": [
      "There are 8080 words in the vocabulary. A selection: ['airier', 'airiness', 'airism', 'airline', 'airplane', 'airplanes', 'airport', 'airy', 'aize', 'aka', 'akward', 'al', 'alas', 'albeit', 'alerations', 'alert', 'alexandria', 'align', 'aligned', 'alignment']\n"
     ]
    }
   ],
   "source": [
    "from sklearn.feature_extraction.text import CountVectorizer #The CountVectorizer object\n",
    "\n",
    "text = df_subset['Review Text'].values.astype('U') #Taking the text from the df. We need to convert it to Unicode\n",
    "\n",
    "vect = CountVectorizer(stop_words='english') #Create the CV object, with English stop words\n",
    "vect = vect.fit(text) #We fit the model with the words from the review text\n",
    "vect\n",
    "feature_names = vect.get_feature_names() #Get the words from the vocabulary\n",
    "print(f\"There are {len(feature_names)} words in the vocabulary. A selection: {feature_names[500:520]}\")\n"
   ]
  },
  {
   "cell_type": "markdown",
   "metadata": {},
   "source": [
    "### Document-feature matrix"
   ]
  },
  {
   "cell_type": "markdown",
   "metadata": {},
   "source": [
    "Then I can count the occurences of each word of each review with the document-feature matrix."
   ]
  },
  {
   "cell_type": "code",
   "execution_count": 93,
   "metadata": {},
   "outputs": [
    {
     "name": "stdout",
     "output_type": "stream",
     "text": [
      "  (0, 855)\t2\n",
      "  (2, 8)\t1\n",
      "  (2, 545)\t1\n",
      "  (2, 768)\t1\n",
      "  (4, 72)\t1\n",
      "  (4, 224)\t1\n",
      "  (5, 664)\t1\n",
      "  (7, 877)\t1\n",
      "  (8, 941)\t1\n",
      "  (10, 768)\t1\n",
      "  (10, 941)\t1\n",
      "  (11, 775)\t1\n",
      "  (12, 636)\t1\n",
      "  (14, 546)\t1\n",
      "  (14, 885)\t1\n",
      "  (14, 910)\t2\n",
      "  (15, 586)\t1\n",
      "  (15, 876)\t2\n",
      "  (16, 512)\t1\n",
      "  (16, 876)\t1\n",
      "  (17, 899)\t1\n",
      "  (18, 210)\t1\n",
      "  (18, 546)\t1\n",
      "  (18, 927)\t1\n",
      "  (18, 941)\t1\n",
      "  :\t:\n",
      "  (488, 943)\t1\n",
      "  (489, 211)\t1\n",
      "  (489, 304)\t1\n",
      "  (489, 316)\t1\n",
      "  (489, 720)\t1\n",
      "  (489, 817)\t1\n",
      "  (489, 877)\t2\n",
      "  (491, 104)\t1\n",
      "  (491, 243)\t1\n",
      "  (491, 422)\t1\n",
      "  (492, 84)\t1\n",
      "  (492, 96)\t1\n",
      "  (492, 186)\t1\n",
      "  (492, 233)\t1\n",
      "  (492, 242)\t1\n",
      "  (492, 248)\t1\n",
      "  (493, 828)\t1\n",
      "  (494, 86)\t1\n",
      "  (494, 485)\t1\n",
      "  (494, 768)\t1\n",
      "  (494, 924)\t1\n",
      "  (496, 927)\t1\n",
      "  (497, 37)\t1\n",
      "  (497, 674)\t1\n",
      "  (498, 876)\t1\n"
     ]
    }
   ],
   "source": [
    "docu_feat = vect.transform(text) #The transform method from the CountVectorizer object creates the matrix\n",
    "print(docu_feat[0:500,0:950]) #Let's print a little part of the matrix: the first 50 words & documents"
   ]
  },
  {
   "cell_type": "markdown",
   "metadata": {},
   "source": [
    "## Splitting the data into a training and test set"
   ]
  },
  {
   "cell_type": "code",
   "execution_count": 94,
   "metadata": {},
   "outputs": [],
   "source": [
    "from sklearn.model_selection import train_test_split\n",
    "y = df_subset['Rating'] #We need to take out the rating as our Y-variable\n",
    "X =  docu_feat #and the subset variables as our x variable\n",
    "X_train, X_test, y_train, y_test = train_test_split(X, y, test_size=0.3, random_state=1) #split the data into training and test set, store it into different variables"
   ]
  },
  {
   "cell_type": "markdown",
   "metadata": {},
   "source": [
    "## Naïve Bayes classifier"
   ]
  },
  {
   "cell_type": "markdown",
   "metadata": {},
   "source": [
    "Then I train a Naïve Bayes classifier to predict if the review is postive or negative."
   ]
  },
  {
   "cell_type": "code",
   "execution_count": 95,
   "metadata": {},
   "outputs": [
    {
     "data": {
      "text/plain": [
       "MultinomialNB(alpha=1.0, class_prior=None, fit_prior=True)"
      ]
     },
     "execution_count": 95,
     "metadata": {},
     "output_type": "execute_result"
    }
   ],
   "source": [
    "from sklearn.naive_bayes import MultinomialNB\n",
    "\n",
    "clf = MultinomialNB()\n",
    "clf.fit(X_train, y_train)\n",
    "MultinomialNB()"
   ]
  },
  {
   "cell_type": "markdown",
   "metadata": {},
   "source": [
    "## Evaluation"
   ]
  },
  {
   "cell_type": "code",
   "execution_count": 96,
   "metadata": {},
   "outputs": [
    {
     "data": {
      "text/plain": [
       "0.8554852320675106"
      ]
     },
     "execution_count": 96,
     "metadata": {},
     "output_type": "execute_result"
    }
   ],
   "source": [
    "y_test_p = clf.predict(X_test)#the prediction of the model\n",
    "clf.score(X_test, y_test) #the accuracy of the model"
   ]
  },
  {
   "cell_type": "markdown",
   "metadata": {},
   "source": [
    "The accuracy is 86%. Which is pretty high for two categories."
   ]
  },
  {
   "cell_type": "code",
   "execution_count": 97,
   "metadata": {},
   "outputs": [
    {
     "data": {
      "text/plain": [
       "array([[ 282,  182],\n",
       "       [  92, 1340]], dtype=int64)"
      ]
     },
     "execution_count": 97,
     "metadata": {},
     "output_type": "execute_result"
    }
   ],
   "source": [
    "from sklearn.metrics import confusion_matrix\n",
    "y_test_pred = clf.predict(X_test) #the predicted values\n",
    "cm = confusion_matrix(y_test, y_test_pred) #creates a \"confusion matrix\"\n",
    "cm"
   ]
  },
  {
   "cell_type": "code",
   "execution_count": 98,
   "metadata": {},
   "outputs": [
    {
     "data": {
      "text/plain": [
       "array(['Negative', 'Positive'], dtype='<U8')"
      ]
     },
     "execution_count": 98,
     "metadata": {},
     "output_type": "execute_result"
    }
   ],
   "source": [
    "clf.classes_ #see which label is what"
   ]
  },
  {
   "cell_type": "code",
   "execution_count": 99,
   "metadata": {},
   "outputs": [
    {
     "data": {
      "text/html": [
       "<div>\n",
       "<style scoped>\n",
       "    .dataframe tbody tr th:only-of-type {\n",
       "        vertical-align: middle;\n",
       "    }\n",
       "\n",
       "    .dataframe tbody tr th {\n",
       "        vertical-align: top;\n",
       "    }\n",
       "\n",
       "    .dataframe thead th {\n",
       "        text-align: right;\n",
       "    }\n",
       "</style>\n",
       "<table border=\"1\" class=\"dataframe\">\n",
       "  <thead>\n",
       "    <tr style=\"text-align: right;\">\n",
       "      <th></th>\n",
       "      <th>Negative (predicted)</th>\n",
       "      <th>Positive (predicted)</th>\n",
       "    </tr>\n",
       "  </thead>\n",
       "  <tbody>\n",
       "    <tr>\n",
       "      <th>Negative</th>\n",
       "      <td>282</td>\n",
       "      <td>182</td>\n",
       "    </tr>\n",
       "    <tr>\n",
       "      <th>Positive</th>\n",
       "      <td>92</td>\n",
       "      <td>1340</td>\n",
       "    </tr>\n",
       "  </tbody>\n",
       "</table>\n",
       "</div>"
      ],
      "text/plain": [
       "          Negative (predicted)  Positive (predicted)\n",
       "Negative                   282                   182\n",
       "Positive                    92                  1340"
      ]
     },
     "execution_count": 99,
     "metadata": {},
     "output_type": "execute_result"
    }
   ],
   "source": [
    "#In order to read it easily , let's make a dataframe out of it, and add labels to it.\n",
    "conf_matrix = pd.DataFrame(cm, index=['Negative', 'Positive'], columns = ['Negative (predicted)', 'Positive (predicted)']) \n",
    "conf_matrix"
   ]
  },
  {
   "cell_type": "markdown",
   "metadata": {},
   "source": [
    "Then I created a confusion matrix to see how much are predicted right and wrong.\n",
    "So, 282 negative reviews are correctly predicted. 182 are instead wrong predicted."
   ]
  },
  {
   "cell_type": "code",
   "execution_count": 100,
   "metadata": {},
   "outputs": [
    {
     "name": "stdout",
     "output_type": "stream",
     "text": [
      "              precision    recall  f1-score   support\n",
      "\n",
      "    Negative       0.75      0.61      0.67       464\n",
      "    Positive       0.88      0.94      0.91      1432\n",
      "\n",
      "   micro avg       0.86      0.86      0.86      1896\n",
      "   macro avg       0.82      0.77      0.79      1896\n",
      "weighted avg       0.85      0.86      0.85      1896\n",
      "\n"
     ]
    }
   ],
   "source": [
    "from sklearn.metrics import classification_report\n",
    "print(classification_report(y_test, y_test_pred))"
   ]
  },
  {
   "cell_type": "markdown",
   "metadata": {},
   "source": [
    "For precision and recall you see some difference between negative and positive reviews. The negative reviews score a bit low on precision and recall. Positive reviews on the other hand score pretty high."
   ]
  },
  {
   "cell_type": "markdown",
   "metadata": {},
   "source": [
    "## Predicting probabilities"
   ]
  },
  {
   "cell_type": "markdown",
   "metadata": {},
   "source": [
    "Then I predict the probabilities of the reviews. Here you see the rating (positive or negative), the review text and the prediction if the review is postive or negative for every row."
   ]
  },
  {
   "cell_type": "code",
   "execution_count": 103,
   "metadata": {},
   "outputs": [
    {
     "name": "stdout",
     "output_type": "stream",
     "text": [
      "0 The rating is: Positive\n",
      "Love this dress!  it's sooo pretty.  i happened to find it in a store, and i'm glad i did bc i never would have ordered it online bc it's petite.  i bought a petite and am 5'8\".  i love the length on me- hits just a little below the knee.  would definitely be a true midi on someone who is truly petite.\n",
      "Negative: 5.337412695289174e-05, Positive: 0.9999466258730467\n",
      "1 The rating is: Negative\n",
      "I had such high hopes for this dress and really wanted it to work for me. i initially ordered the petite small (my usual size) but i found this to be outrageously small. so small in fact that i could not zip it up! i reordered it in petite medium, which was just ok. overall, the top half was comfortable and fit nicely, but the bottom half had a very tight under layer and several somewhat cheap (net) over layers. imo, a major design flaw was the net over layer sewn directly into the zipper - it c\n",
      "Negative: 0.9999990978503296, Positive: 9.021496679830375e-07\n",
      "2 The rating is: Negative\n",
      "I love tracy reese dresses, but this one is not for the very petite. i am just under 5 feet tall and usually wear a 0p in this brand. this dress was very pretty out of the package but its a lot of dress. the skirt is long and very full so it overwhelmed my small frame. not a stranger to alterations, shortening and narrowing the skirt would take away from the embellishment of the garment. i love the color and the idea of the style but it just did not work on me. i returned this dress.\n",
      "Negative: 0.8994490532230259, Positive: 0.10055094677695622\n",
      "3 The rating is: Positive\n",
      "I love this dress. i usually get an xs but it runs a little snug in bust so i ordered up a size. very flattering and feminine with the usual retailer flair for style.\n",
      "Negative: 0.0008941839030218884, Positive: 0.9991058160969823\n",
      "4 The rating is: Positive\n",
      "I'm 5\"5' and 125 lbs. i ordered the s petite to make sure the length wasn't too long. i typically wear an xs regular in retailer dresses. if you're less busty (34b cup or smaller), a s petite will fit you perfectly (snug, but not tight). i love that i could dress it up for a party, or down for work. i love that the tulle is longer then the fabric underneath.\n",
      "Negative: 1.2613710560011586e-05, Positive: 0.9999873862894344\n",
      "5 The rating is: Negative\n",
      "Dress runs small esp where the zipper area runs. i ordered the sp which typically fits me and it was very tight! the material on the top looks and feels very cheap that even just pulling on it will cause it to rip the fabric. pretty disappointed as it was going to be my christmas dress this year! needless to say it will be going back.\n",
      "Negative: 0.997852007561362, Positive: 0.002147992438624926\n",
      "6 The rating is: Positive\n",
      "This dress is perfection! so pretty and flattering.\n",
      "Negative: 0.048741816116552004, Positive: 0.9512581838834477\n",
      "7 The rating is: Positive\n",
      "More and more i find myself reliant on the reviews written by savvy shoppers before me and for the most past, they are right on in their estimation of the product. in the case of this dress-if it had not been for the reveiws-i doubt i would have even tried this. the dress is beautifully made, lined and reminiscent of the old retailer quality. it is lined in the solid periwinkle-colored fabric that matches the outer fabric print. tts and very form-fitting. falls just above the knee and does not rid\n",
      "Negative: 0.0024614623979554973, Positive: 0.9975385376020358\n",
      "8 The rating is: Negative\n",
      "This is a nice choice for holiday gatherings. i like that the length grazes the knee so it is conservative enough for office related gatherings. the size small fit me well - i am usually a size 2/4 with a small bust. in my opinion it runs small and those with larger busts will definitely have to size up (but then perhaps the waist will be too big). the problem with this dress is the quality. the fabrics are terrible. the delicate netting type fabric on the top layer of skirt got stuck in the zip\n",
      "Negative: 0.9994181897919426, Positive: 0.0005818102080712822\n",
      "9 The rating is: Positive\n",
      "I love the look and feel of this tulle dress. i was looking for something different, but not over the top for new year's eve. i'm small chested and the top of this dress is form fitting for a flattering look. once i steamed the tulle, it was perfect! i ordered an xsp. length was perfect too.\n",
      "Negative: 9.235283938540877e-06, Positive: 0.9999907647160584\n",
      "10 The rating is: Positive\n",
      "I'm upset because for the price of the dress, i thought it was embroidered! no, that is a print on the fabric. i think i cried a little when i opened the box. it is still ver pretty. i would say it is true to size, it is a tad bit big on me, but i am very tiny, but i can still get away with it. the color is vibrant. the style is unique. skirt portion is pretty poofy. i keep going back and forth on it mainly because of the price, although the quality is definitely there. except i wish it were emb\n",
      "Negative: 0.02131558641923008, Positive: 0.9786844135807505\n",
      "11 The rating is: Negative\n",
      "First of all, this is not pullover styling. there is a side zipper. i wouldn't have purchased it if i knew there was a side zipper because i have a large bust and side zippers are next to impossible for me.\n",
      "\n",
      "second of all, the tulle feels and looks cheap and the slip has an awkward tight shape underneath.\n",
      "\n",
      "not at all what is looks like or is described as. sadly will be returning, but i'm sure i will find something to exchange it for!\n",
      "Negative: 0.9994074960242567, Positive: 0.0005925039757435762\n",
      "12 The rating is: Negative\n",
      "Cute little dress fits tts. it is a little high waisted. good length for my 5'9 height. i like the dress, i'm just not in love with it. i dont think it looks or feels cheap. it appears just as pictured.\n",
      "Negative: 0.20031937577784012, Positive: 0.7996806242221514\n",
      "13 The rating is: Negative\n",
      "Love the color and style, but material snags easily\n",
      "Negative: 0.4392734536979541, Positive: 0.5607265463020485\n",
      "14 The rating is: Positive\n",
      "I got this in the petite length, size o, and it fit just right. i like that i didn't have to have it altered in the length; can wear with flats with plenty of clearance to the floor from the bottom hem. my only beef with the design is the height of the waist. i personally think that the elastic waistband looks cheap, and really needs to be concealed with a belt, yet because it sits so high, literally right under the bustline, it's a tricky one to pull off. i have a wide belt that sort of does th\n",
      "Negative: 0.00578043077371134, Positive: 0.9942195692262822\n",
      "15 The rating is: Positive\n",
      "This dress is simply beautiful and stunning. it is so figure flattering and i can't wait to wear it. size small worked for me, and since i'm tall it fell right to my ankle which is perfect for me. i could not be happier with the purchase and the keyhole in the back is a beautiful detail.\n",
      "Negative: 5.472222252384244e-05, Positive: 0.9999452777774737\n",
      "16 The rating is: Negative\n",
      "I really wanted this to work. alas, it had a strange fit for me. the straps would not stay up, and it had a weird fit under the breast. it worked standing up, but the minute i sat down it fell off my shoulders. the fabric was beautiful! and i loved that it had pockets.\n",
      "Negative: 0.9486382201775949, Positive: 0.05136177982240761\n",
      "17 The rating is: Positive\n",
      "I passed up this dress so many times in the store and finally tried it on today because i wanted a casual dress while traveling in the cape. i was surprised how much cuter it is on than on hanger. i sized down to get a more fitting look and really made a difference for me in style. i was not a fan of the way it looked so loose on model. it looks really cute fitted and a bit sexy even. it is lined and very comfy and can be dressed up a but for work with a cardi. i believe i will get a lot of wear\n",
      "Negative: 1.947385728066423e-05, Positive: 0.9999805261427238\n",
      "18 The rating is: Positive\n",
      "I would have loved this dress if the bust and waist were just a little more fitted. i am 32c and the top was too big. fit perfectly on hips. the lace material means it cannot be easily altered, so i chose to return the dress. i would have definitely kept it if it were a better fit.\n",
      "Negative: 0.05223725172779432, Positive: 0.9477627482722092\n",
      "19 The rating is: Positive\n",
      "This dress is adorable - it's a perfect casual look for summer and the quality is nice with the lining (though still overpriced, in my opinion). the tie detail is somewhat adjustable, and i found my normal size s to fit fine (5'7, 128#). where this gets me is the fact that it's dry clean...totally doesn't make sense for a dress that is essentially a fancy tshirt for summer. i might bring it back for that alone, since i originally planned to wear it a lot. :(\n",
      "Negative: 0.0015622796864609599, Positive: 0.9984377203135391\n",
      "20 The rating is: Positive\n",
      "I am usually a petite 6 but since this dress did not come in petites i tried on 4 and it fit. i'm 5'1\" -112lbs so dress hit rt below knee -will have it hemmed up a bit do not so overwhelming.\n",
      "\n",
      "this dress looks stunning on! great vibrant color ( i have dark hair) makes this classic elegant dress look contemporary and stylish. when i tried it on in store, salesperson and others who happen to see it on me raved and told me to grab it! i did and am glad.\n",
      "\n",
      "i plan to wear it this spring for my daughte\n",
      "Negative: 3.84291899786835e-10, Positive: 0.9999999996156816\n",
      "21 The rating is: Positive\n",
      "I debated n that as i think it looks loose on the model, but if i was to tighten it, it looks a lot more flattering... i tried on the xs in the store (i usually do that to decide if i need petite), and it looked huge, when we pinched the back to see if xxs would work, it was a lot of fabric, and looser didn't look as good on me... but i like the dress overall, so still recommend. and for those who like the looser look, this is great. i would, however, order eptite for 5'1.5\". (115 lbs, 03 dd che\n",
      "Negative: 0.05867177686745246, Positive: 0.9413282231325338\n",
      "22 The rating is: Positive\n",
      "I love cute summer dresses and this one, especially because it is made out of linen, is unique. it is very well-made with a design that is quite flattering. i am 5 foot 6 and a little curvy with a 38 c bust and i got a size 10. it fits well although it is difficult to zip up because the material has no give. the perfect dress to wear to italy or france! now i just have to book my tickets!\n",
      "Negative: 4.7470057117369595e-05, Positive: 0.999952529942891\n",
      "23 The rating is: Positive\n",
      "nan\n",
      "Negative: 0.08889279999456375, Positive: 0.9111072000054359\n",
      "24 The rating is: Positive\n",
      "Perfect dress for hot, humid, sticky weather.\n",
      "Negative: 0.014760544435563825, Positive: 0.9852394555644395\n",
      "25 The rating is: Negative\n",
      "I didn't end up keeping this dress...it just wasn't right for me. it is very cute and fit well but the fabric was very thin (partially lined which is a plus) and the hem line coming up on the sides made it just too short for me. i ordered the petite xs and liked the length in front and back well but the side slit/vent was just too high for my liking. the tie part hit at the perfect spot for me at only 5'4\" (~118#). i guess i just didn't \"love\" it and would rather save my funds for something i ca\n",
      "Negative: 0.9912213780145699, Positive: 0.008778621985441513\n",
      "26 The rating is: Positive\n",
      "This dress is comfortable and stylish at the same time. it runs true to size. i'm 5'1\" 113 lbs and got the xs petite. wore it once so far for a few hours and got a few compliments on it!\n",
      "Negative: 1.4120832775935009e-05, Positive: 0.9999858791672233\n",
      "27 The rating is: Negative\n",
      "The design/shape of the dress are quite flattering, flirty and feminine. but.... there is no way that the dress i received is new. the color is a faded washed out red and there are black stains all over the belt area. there is no tag... the fabric looks droopy and laundered and is not crisp, stiff or new. i am very disappointed by the quality of the item that i received. undoubtedly this one is going back.\n",
      "\n",
      "dear retailer - please make sure that you do not send pre-owend clothing articles to\n",
      "Negative: 0.9999977252049642, Positive: 2.2747950477045194e-06\n",
      "28 The rating is: Positive\n",
      "Prior reviewer nailed it with the summary of this dress. it definitely needs heels. i'm 5'4\", 120#, 34d and this is a size 36. i usually wear a size s or 4 with most retailer stuff.\n",
      "Negative: 0.017815195855340804, Positive: 0.9821848041446618\n",
      "29 The rating is: Positive\n",
      "This is the perfect summer dress. it can be dressed up or down. the quality of the linen fabric is very nice. i'm 5'1\" and it hit right below my knees. i found it to run true to size. those with a smaller bust might want to go down a size, but the tie in the front can be adjusted. it's lovely.\n",
      "Negative: 4.95244300684828e-06, Positive: 0.9999950475569926\n",
      "30 The rating is: Positive\n",
      "This is a great pull over dress that can easily be dressed to wear to work, to a bbq, or to happy hour. i have a large chest which sometimes makes this fit look like a tent but this fabric drapes nicely. the only thing i would note is the neckline was slightly higher on me than for the model.\n",
      "Negative: 0.0002931904732534098, Positive: 0.9997068095267553\n",
      "31 The rating is: Negative\n",
      "Like others reviewers mentioned on here, this dress is extremely well made. but there were too many cons for me, as well. this would most certainly work on a petite/shorter frame, but for tall, busty, and curvier girls, it just sits wrong on all places unfortunately. the color is lovely along with the nice collar that ties in the back really made this dress stand out.\n",
      "\n",
      "however, i'm a 36c and found that the arm/shoulder part so large and bulky that is made me look bigger on top. there was entirel\n",
      "Negative: 0.9971532236211962, Positive: 0.002846776378817153\n",
      "32 The rating is: Negative\n",
      "It's ok, fit doesn't wow me because of my body. chest is too wide, hips look too narrow. drapes across my back fat in an especially non-flattering way. basically made my square-apple body look more square-apple. great part about this dress is that it's comfy and hides the tummy pooch. construction is poorly done...contrasting liner at v-neck is rolling out on one side only and then doing the same at the hem contralaterally. another negative point is dry clean only. boo. i'm 5'3\" 140# 39-28-35 an\n",
      "Negative: 0.9999689957585663, Positive: 3.100424142706721e-05\n",
      "33 The rating is: Positive\n",
      "I love the dresses by maeve and this one is no exception. i was pleasantly surprised upon receiving this dress because i wasn't sure about the print size and colors when i saw it online, but the print is beautiful. it's a very simple but elegant style and the ruffle on the back adds an extra touch of interest. i like that it has enough coverage at the top (front and back), the underarms do not fall very low, and it is lined. the a-line skirt will flatter most body types. the fabric and overall q\n",
      "Negative: 0.00013638418993027653, Positive: 0.9998636158100794\n",
      "34 The rating is: Negative\n",
      "The colors are vivid and perfectly autumnal but the fit is a mess. it was overall too large, the waistline curves up in the front and then falls into small pleats which was maternityish, the waistband was thicker than the dress and sat away from my body and the material was a cheapish poly. had the outer dress been made from the same material as the lining, i would have liked it better. the modesty closure was a plus but the dress was already unraveling when i took it out. #returned\n",
      "Negative: 0.9999229603613131, Positive: 7.703963865972434e-05\n",
      "35 The rating is: Positive\n",
      "Just came today: the print is gorgeous.  very bohemian. it's a dressier dress with the chiffon.  on the con side, the chiffon is very delicate, snagged easily while trying on. there's raw edges on the waistband, needed trimming fresh out of the package.  sz 10 fit in the waist, too small for 36d bust; sz 12 fits bust but is big in the waist.  sz 10 ankle length for 5'7\", 12 hits the floor.  haven't decided if i'll keep the 12 and try to alter.\n",
      "Negative: 0.0006448399483687372, Positive: 0.9993551600516557\n",
      "36 The rating is: Negative\n",
      "Dress ran very large in every way. beautiful design, lining and quality material. i should have sized down 2 sizes. item is now sold out.\n",
      "Negative: 0.7390223167797683, Positive: 0.2609776832202339\n",
      "37 The rating is: Positive\n",
      "I was so excited about the arrival of my maza dress. much to my surprise the material was not has structured as i thought it would be from the photos. the fit was very tight and did not fall as nicely as i anticipated. because i loved the classic design i decided to give it another chance so i returned it for the next size up and fell in love, the open sleeve was a nice surprise with a touch if elegance. the front buttons added a bit of old charm and feminine\n",
      "appeal. while the material was not v\n",
      "Negative: 0.015693814603707147, Positive: 0.9843061853962779\n",
      "38 The rating is: Positive\n",
      "I'm 5'4\", 130 lbs. 34 d. i bought the medium. i think i could have gotten the small but i didn't have time to re-order. it fit fine but could have been a little more snug around my top half. i love the length and the fabric.!\n",
      "Negative: 0.001031066801607131, Positive: 0.9989689331983962\n",
      "39 The rating is: Positive\n",
      "Ranna designs richly detailed dresses and this is no exception.  looks just like the pictures (colors/cut/drape) with the exception of a modesty hook at the deep v-neck.  sleeves are sheer with an elastic cuff.  this dress does not stretch--the bodice felt very fitted and tight, especially at the waist band.  runs tts or small; if you're busty/broad shouldered, size up.  it has a dreadful side zip, is fully lined and all synthetic fabric (boo!)  i purchased size 10p, my stats 36c/38-27-35/135#.\n",
      "Negative: 3.689438112395602e-05, Positive: 0.9999631056188887\n",
      "40 The rating is: Positive\n",
      "This dress makes you feel like a bohemian goddess.  falls in the right area and absolutely adorable.  the dress is very fragile, handle with care.\n",
      "Negative: 0.12557989475468057, Positive: 0.8744201052453247\n",
      "41 The rating is: Positive\n",
      "I ordered this dress in both colors. the peach color is so beautiful in person. i'm planning to wear this dress for our rehearsal dinner at the end of the summer, if i can hold off until then! definitely worth the price.\n",
      "Negative: 0.0003912220811332607, Positive: 0.9996087779188662\n",
      "42 The rating is: Positive\n",
      "This dress is incredible. i saw a sales girl wearing it in my local retailer and loved it! i bought it in the navy color, it's gorgeous in person, very bright, vibrant colors. i am 5'9 34 c bra 27 inch waist and the s was quite big on my waist. i kept it anyway because the xs has been sold out, and got it taken in a bit. i wore it while vacationing in mexico and it definitely turned heads, if you're thinking about buying this dress, do it, you won't regret it!\n",
      "Negative: 2.947451119130053e-08, Positive: 0.999999970525494\n",
      "43 The rating is: Positive\n",
      "Absolutely love this dress! fits true to size and makes anyone look fabulous\n",
      "Negative: 0.002293537763250889, Positive: 0.9977064622367477\n",
      "44 The rating is: Positive\n",
      "Bought both colors in xs and soooooo glad i did. this dress is absolutely gorgeous in either color... will have (do to the nice quality) and wear (very stylish) for a loooooong time.\r\n",
      "\r\n",
      "a must have for the summer!!!!!!\n",
      "Negative: 0.0006345028273210019, Positive: 0.9993654971726765\n",
      "45 The rating is: Positive\n",
      "This dress is gorgeous!!! i love it! i bought it to wear to a july wedding. i got the navy and it is so fresh and crisp in color. the sizing is on spot! i slipped it on and it was comfortable, easy and stylish. i am 5'7\" and typically xs. it falls exactly as portrayed in the online photos. it is lined in the skirt and the top is stretch jersey in the best weight! i am in love!\n",
      "Negative: 5.668892367751706e-07, Positive: 0.9999994331107772\n",
      "46 The rating is: Positive\n",
      "After missing out on last year's similar dress, i am so glad i finally purchased this one! it is beautiful in person. i bought to wear to a wedding, but i am curious if others think it might be too white? i bought the peach color. i will keep this dress no matter what. hope they come out with more next season!\n",
      "Negative: 2.110014607738878e-06, Positive: 0.9999978899854035\n",
      "47 The rating is: Positive\n",
      "Beautiful colors and silhouette (i got the navy). the skirt is lined and flows wonderfully when you walk. i've gotten a ton of compliments on it. i'm 5'9\" and the high hem falls a few inches below my knee, and the low hem falls to my ankles.\n",
      "Negative: 3.413456123951461e-08, Positive: 0.9999999658654423\n",
      "48 The rating is: Positive\n",
      "nan\n",
      "Negative: 0.08889279999456375, Positive: 0.9111072000054359\n",
      "49 The rating is: Positive\n",
      "This dress is stunning- vibrant colors and flirty feel to it. i got the small and i am a 34b/27 pants, 132 lbs- great fit. i only question two things- am i tall enough to pull off the extra fabric in the back and what the heck do you where for a bra? those two considerations are why i didn't give it 5 stars.\n",
      "Negative: 0.002829793273788887, Positive: 0.9971702067262146\n",
      "50 The rating is: Positive\n",
      "I wore this dress for the first time yesterday... i have never received so many compliments on a dress before! several people even stopped me in the streets of nyc to tell me how beautiful this dress was!\r\n",
      "it is an absolute must-have!\n",
      "Negative: 0.00014713958365343663, Positive: 0.9998528604163452\n",
      "51 The rating is: Positive\n",
      "This dress first caught my eye online. due to the price i resisted. then i saw in store and tried on...i decided to hold off for a sale, but my will was getting thin. once i saw it start to sell out online, i had to take the plunge. i knew this dress was a must have. it is super flattering and comfy! the best of both worlds. i'm small-chested so both the s and m fit, but the seam on the s fit a bit higher, which was more flattering on me, so s is what i got. it can be dressed up or slightly down\n",
      "Negative: 1.364147382368389e-05, Positive: 0.9999863585261652\n",
      "52 The rating is: Positive\n",
      "I purchased the navy color of this dress. not only did it look good, but felt good as well. since it is for a wedding, i also purchased a white crochet cropped \"sweater\" to wear over as well, making the perfect dress for the mother of the groom. could not have been happier.\n",
      "Negative: 3.673481891948473e-05, Positive: 0.9999632651810743\n",
      "53 The rating is: Negative\n",
      "Looks beautiful online but has too much material and the zipper catches on the lace. also runs very large, i am normally a small but would need and xs in this dress\n",
      "Negative: 0.14233395077646982, Positive: 0.8576660492235292\n",
      "54 The rating is: Positive\n",
      "This dress has potential, but it didn't work for me. it runs true to size to a little big, i ordered medium, my usual size for maeve). as for length it fit me as the model (5'9\"). the reason i'm not keeping it is that i wish it had some darts in the back to help define the waist a bit,\n",
      "Negative: 0.03331980049921422, Positive: 0.9666801995007772\n"
     ]
    }
   ],
   "source": [
    "for i in range(55): #get the predictions of text of 80 rows\n",
    "    prob = clf.predict_proba(X[i]) \n",
    "    print(i, f\"The rating is: {df_subset.iloc[i,1]}\")\n",
    "    print(df_subset.iloc[i,0])\n",
    "    print(f\"Negative: {prob[0,0]}, Positive: {prob[0,1]}\")"
   ]
  },
  {
   "cell_type": "markdown",
   "metadata": {},
   "source": [
    "### Off target"
   ]
  },
  {
   "cell_type": "markdown",
   "metadata": {},
   "source": [
    "At line 12, 13 and 53 the rating is negative, but the predicted is positive. This is probably because of the individual words ( beautiful, good, like and love). They sound positive seperatly, but if you read the whole review it doesn't sound as positive. This is were the model trips up."
   ]
  }
 ],
 "metadata": {
  "kernelspec": {
   "display_name": "Python 3",
   "language": "python",
   "name": "python3"
  },
  "language_info": {
   "codemirror_mode": {
    "name": "ipython",
    "version": 3
   },
   "file_extension": ".py",
   "mimetype": "text/x-python",
   "name": "python",
   "nbconvert_exporter": "python",
   "pygments_lexer": "ipython3",
   "version": "3.7.3"
  }
 },
 "nbformat": 4,
 "nbformat_minor": 2
}
